{
 "cells": [
  {
   "cell_type": "markdown",
   "metadata": {},
   "source": [
    "# **Harry Potter movie scripts analysis**"
   ]
  },
  {
   "cell_type": "markdown",
   "metadata": {},
   "source": [
    "This will be my forth attempt joining Maven analytics challenge. \n",
    "\n",
    "This script will be used to provide an introduction to data analysis using SQL language, which should be a must-have tool for any data analyst or even any data professional - both for gaining access to data and, more importantly, as a simple tool for advanced data analysis. The logic behind SQL is very similar to any other tool or language used for data analysis (excel, Pandas), and should be very intuitive for those who have previously worked with data."
   ]
  },
  {
   "cell_type": "markdown",
   "metadata": {},
   "source": [
    "### About the dataset:\n",
    "\n",
    "#### <ins>Harry Potter Movie Scripts </ins>\n",
    "\n",
    "This dataset contains 6 tables in CSV format\n",
    "\n",
    "1. The **Dialogue** table contains all 7,444 lines of dialogue from the 8 Harry Potter movie scripts, and contains foreign keys that can be matched to a specific chapter, character, and place from the Wizarding World\n",
    "\n",
    "2. The **Chapters** table contains the 234 chapters from the Harry Potter movie scripts, with fields containing the chapter name and number, and the related movie\n",
    "\n",
    "3. The **Movies** table contains the 8 movies from the Harry Potter series, with fields containing the movie title, release year, runtime, budget, and box office revenue\n",
    "\n",
    "4. The **Characters** table contains the 166 characters that had lines of dialogue in the movies, with fields containing the character’s name, species, patronus, and more!\n",
    "\n",
    "5. The **Places** table contains 74 locations from the Wizarding World, with fields containing the place name and category (Hogwarts, Hogsmeade, etc.)\n",
    "\n",
    "6. The **Spells** table contains the 61 spells cast in the movies, with fields containing the incantation, spell name & effect, and the color of the light cast (HINT: Try to search for the incantation in the movie dialogues to join the tables!)"
   ]
  },
  {
   "cell_type": "markdown",
   "metadata": {},
   "source": [
    "## Add SQL Extension"
   ]
  },
  {
   "cell_type": "code",
   "execution_count": 1,
   "metadata": {},
   "outputs": [],
   "source": [
    "!pip3 install ipython-sql --quiet\n",
    "%load_ext sql"
   ]
  },
  {
   "cell_type": "markdown",
   "metadata": {},
   "source": [
    "## Import libraries"
   ]
  },
  {
   "cell_type": "code",
   "execution_count": 2,
   "metadata": {},
   "outputs": [],
   "source": [
    "import pandas as pd\n",
    "import csv\n",
    "import sqlite3\n",
    "from pathlib import Path"
   ]
  },
  {
   "cell_type": "markdown",
   "metadata": {},
   "source": [
    "## Create SQLite database"
   ]
  },
  {
   "cell_type": "code",
   "execution_count": 3,
   "metadata": {},
   "outputs": [],
   "source": [
    "Path('harrypotter.db').touch()\n",
    "conn = sqlite3.connect('harrypotter.db')\n",
    "c = conn.cursor()"
   ]
  },
  {
   "cell_type": "markdown",
   "metadata": {},
   "source": [
    "## Load CSV files into SQLite database"
   ]
  },
  {
   "cell_type": "code",
   "execution_count": 4,
   "metadata": {},
   "outputs": [],
   "source": [
    "dialogue = pd.read_csv('Dialogue.csv')\n",
    "dialogue.to_sql('Dialogue', conn, if_exists='append', index = False)\n",
    "\n",
    "chapters = pd.read_csv('Chapters.csv')\n",
    "chapters.to_sql('Chapters', conn, if_exists='append', index = False)\n",
    "\n",
    "movies = pd.read_csv('Movies.csv')\n",
    "movies.to_sql('Movies', conn, if_exists='append', index = False)\n",
    "\n",
    "characters = pd.read_csv('Characters.csv')\n",
    "characters.to_sql('Characters', conn, if_exists='append', index = False)\n",
    "\n",
    "places = pd.read_csv('Places.csv')\n",
    "places.to_sql('Places', conn, if_exists='append', index = False)\n",
    "\n",
    "characters = pd.read_csv('Characters.csv')\n",
    "characters.to_sql('Characters', conn, if_exists='append', index = False)\n",
    "\n",
    "spells = pd.read_csv('Spells.csv')\n",
    "spells.to_sql('Spells', conn, if_exists='append', index = False)"
   ]
  },
  {
   "cell_type": "markdown",
   "metadata": {},
   "source": [
    "## Connect to the SQLite database"
   ]
  },
  {
   "cell_type": "code",
   "execution_count": 5,
   "metadata": {},
   "outputs": [],
   "source": [
    "%sql sqlite:///harrypotter.db"
   ]
  },
  {
   "cell_type": "code",
   "execution_count": 6,
   "metadata": {},
   "outputs": [
    {
     "name": "stdout",
     "output_type": "stream",
     "text": [
      " * sqlite:///harrypotter.db\n",
      "Done.\n"
     ]
    },
    {
     "data": {
      "text/html": [
       "<table>\n",
       "    <tr>\n",
       "        <th>sql</th>\n",
       "    </tr>\n",
       "    <tr>\n",
       "        <td>CREATE TABLE &quot;Dialogue&quot; (<br>&quot;DialogueID&quot; INTEGER,<br>  &quot;ChapterID&quot; INTEGER,<br>  &quot;PlaceID&quot; INTEGER,<br>  &quot;CharacterID&quot; INTEGER,<br>  &quot;Dialogue&quot; TEXT<br>)</td>\n",
       "    </tr>\n",
       "    <tr>\n",
       "        <td>CREATE TABLE &quot;Chapters&quot; (<br>&quot;ChapterID&quot; INTEGER,<br>  &quot;ChapterName&quot; TEXT,<br>  &quot;MovieID&quot; INTEGER,<br>  &quot;MovieChapter&quot; INTEGER<br>)</td>\n",
       "    </tr>\n",
       "    <tr>\n",
       "        <td>CREATE TABLE &quot;Movies&quot; (<br>&quot;MovieID&quot; INTEGER,<br>  &quot;MovieTitle&quot; TEXT,<br>  &quot;ReleaseYear&quot; INTEGER,<br>  &quot;Runtime&quot; INTEGER,<br>  &quot;Budget&quot; INTEGER,<br>  &quot;BoxOffice&quot; INTEGER<br>)</td>\n",
       "    </tr>\n",
       "    <tr>\n",
       "        <td>CREATE TABLE &quot;Characters&quot; (<br>&quot;CharacterID&quot; INTEGER,<br>  &quot;CharacterName&quot; TEXT,<br>  &quot;Species&quot; TEXT,<br>  &quot;Gender&quot; TEXT,<br>  &quot;House&quot; TEXT,<br>  &quot;Patronus&quot; TEXT,<br>  &quot;Wand_Wood&quot; TEXT,<br>  &quot;Wand_Core&quot; TEXT<br>)</td>\n",
       "    </tr>\n",
       "    <tr>\n",
       "        <td>CREATE TABLE &quot;Places&quot; (<br>&quot;PlaceID&quot; INTEGER,<br>  &quot;PlaceName&quot; TEXT,<br>  &quot;PlaceCategory&quot; TEXT<br>)</td>\n",
       "    </tr>\n",
       "    <tr>\n",
       "        <td>CREATE TABLE &quot;Spells&quot; (<br>&quot;SpellID&quot; INTEGER,<br>  &quot;Incantation&quot; TEXT,<br>  &quot;SpellName&quot; TEXT,<br>  &quot;Effect&quot; TEXT,<br>  &quot;Light&quot; TEXT<br>)</td>\n",
       "    </tr>\n",
       "</table>"
      ],
      "text/plain": [
       "[('CREATE TABLE \"Dialogue\" (\\n\"DialogueID\" INTEGER,\\n  \"ChapterID\" INTEGER,\\n  \"PlaceID\" INTEGER,\\n  \"CharacterID\" INTEGER,\\n  \"Dialogue\" TEXT\\n)',),\n",
       " ('CREATE TABLE \"Chapters\" (\\n\"ChapterID\" INTEGER,\\n  \"ChapterName\" TEXT,\\n  \"MovieID\" INTEGER,\\n  \"MovieChapter\" INTEGER\\n)',),\n",
       " ('CREATE TABLE \"Movies\" (\\n\"MovieID\" INTEGER,\\n  \"MovieTitle\" TEXT,\\n  \"ReleaseYear\" INTEGER,\\n  \"Runtime\" INTEGER,\\n  \"Budget\" INTEGER,\\n  \"BoxOffice\" INTEGER\\n)',),\n",
       " ('CREATE TABLE \"Characters\" (\\n\"CharacterID\" INTEGER,\\n  \"CharacterName\" TEXT,\\n  \"Species\" TEXT,\\n  \"Gender\" TEXT,\\n  \"House\" TEXT,\\n  \"Patronus\" TEXT,\\n  \"Wand_Wood\" TEXT,\\n  \"Wand_Core\" TEXT\\n)',),\n",
       " ('CREATE TABLE \"Places\" (\\n\"PlaceID\" INTEGER,\\n  \"PlaceName\" TEXT,\\n  \"PlaceCategory\" TEXT\\n)',),\n",
       " ('CREATE TABLE \"Spells\" (\\n\"SpellID\" INTEGER,\\n  \"Incantation\" TEXT,\\n  \"SpellName\" TEXT,\\n  \"Effect\" TEXT,\\n  \"Light\" TEXT\\n)',)]"
      ]
     },
     "execution_count": 6,
     "metadata": {},
     "output_type": "execute_result"
    }
   ],
   "source": [
    "%sql SELECT sql from sqlite_master WHERE type='table';\n",
    "\n",
    "\n",
    "# tables = pd.read_sql(\"\"\"SELECT *\n",
    "#                         FROM sqlite_master\n",
    "#                         WHERE type='table';\"\"\", conn)\n",
    "# tables"
   ]
  },
  {
   "cell_type": "markdown",
   "metadata": {},
   "source": [
    "### Overview of each table"
   ]
  },
  {
   "cell_type": "code",
   "execution_count": 8,
   "metadata": {},
   "outputs": [
    {
     "name": "stdout",
     "output_type": "stream",
     "text": [
      " * sqlite:///harrypotter.db\n",
      "Done.\n"
     ]
    },
    {
     "data": {
      "text/html": [
       "<table>\n",
       "    <tr>\n",
       "        <th>DialogueID</th>\n",
       "        <th>ChapterID</th>\n",
       "        <th>PlaceID</th>\n",
       "        <th>CharacterID</th>\n",
       "        <th>Dialogue</th>\n",
       "    </tr>\n",
       "    <tr>\n",
       "        <td>1</td>\n",
       "        <td>1</td>\n",
       "        <td>8</td>\n",
       "        <td>4</td>\n",
       "        <td>I should have known that you would be here...Professor McGonagall.</td>\n",
       "    </tr>\n",
       "    <tr>\n",
       "        <td>2</td>\n",
       "        <td>1</td>\n",
       "        <td>8</td>\n",
       "        <td>7</td>\n",
       "        <td>Good evening, Professor Dumbledore. Are the rumours true, Albus?</td>\n",
       "    </tr>\n",
       "    <tr>\n",
       "        <td>3</td>\n",
       "        <td>1</td>\n",
       "        <td>8</td>\n",
       "        <td>4</td>\n",
       "        <td>I&#x27;m afraid so, Professor. The good, and the bad.</td>\n",
       "    </tr>\n",
       "    <tr>\n",
       "        <td>4</td>\n",
       "        <td>1</td>\n",
       "        <td>8</td>\n",
       "        <td>7</td>\n",
       "        <td>And the boy?</td>\n",
       "    </tr>\n",
       "    <tr>\n",
       "        <td>5</td>\n",
       "        <td>1</td>\n",
       "        <td>8</td>\n",
       "        <td>4</td>\n",
       "        <td>Hagrid is bringing him.</td>\n",
       "    </tr>\n",
       "</table>"
      ],
      "text/plain": [
       "[(1, 1, 8, 4, 'I should have known that you would be here...Professor McGonagall.'),\n",
       " (2, 1, 8, 7, 'Good evening, Professor Dumbledore. Are the rumours true, Albus?'),\n",
       " (3, 1, 8, 4, \"I'm afraid so, Professor. The good, and the bad.\"),\n",
       " (4, 1, 8, 7, 'And the boy?'),\n",
       " (5, 1, 8, 4, 'Hagrid is bringing him.')]"
      ]
     },
     "execution_count": 8,
     "metadata": {},
     "output_type": "execute_result"
    }
   ],
   "source": [
    "%sql SELECT*FROM Dialogue LIMIT 5"
   ]
  },
  {
   "cell_type": "code",
   "execution_count": 9,
   "metadata": {},
   "outputs": [
    {
     "name": "stdout",
     "output_type": "stream",
     "text": [
      " * sqlite:///harrypotter.db\n",
      "Done.\n"
     ]
    },
    {
     "data": {
      "text/html": [
       "<table>\n",
       "    <tr>\n",
       "        <th>ChapterID</th>\n",
       "        <th>ChapterName</th>\n",
       "        <th>MovieID</th>\n",
       "        <th>MovieChapter</th>\n",
       "    </tr>\n",
       "    <tr>\n",
       "        <td>1</td>\n",
       "        <td>Doorstep Delivery</td>\n",
       "        <td>1</td>\n",
       "        <td>1</td>\n",
       "    </tr>\n",
       "    <tr>\n",
       "        <td>2</td>\n",
       "        <td>The Vanishing Glass</td>\n",
       "        <td>1</td>\n",
       "        <td>2</td>\n",
       "    </tr>\n",
       "    <tr>\n",
       "        <td>3</td>\n",
       "        <td>Letters from No One</td>\n",
       "        <td>1</td>\n",
       "        <td>3</td>\n",
       "    </tr>\n",
       "    <tr>\n",
       "        <td>4</td>\n",
       "        <td>Keeper of the Keys</td>\n",
       "        <td>1</td>\n",
       "        <td>4</td>\n",
       "    </tr>\n",
       "    <tr>\n",
       "        <td>5</td>\n",
       "        <td>Diagon Alley</td>\n",
       "        <td>1</td>\n",
       "        <td>5</td>\n",
       "    </tr>\n",
       "</table>"
      ],
      "text/plain": [
       "[(1, 'Doorstep Delivery', 1, 1),\n",
       " (2, 'The Vanishing Glass', 1, 2),\n",
       " (3, 'Letters from No One', 1, 3),\n",
       " (4, 'Keeper of the Keys', 1, 4),\n",
       " (5, 'Diagon Alley', 1, 5)]"
      ]
     },
     "execution_count": 9,
     "metadata": {},
     "output_type": "execute_result"
    }
   ],
   "source": [
    "%sql SELECT*FROM Chapters LIMIT 5"
   ]
  },
  {
   "cell_type": "code",
   "execution_count": 7,
   "metadata": {},
   "outputs": [
    {
     "name": "stdout",
     "output_type": "stream",
     "text": [
      " * sqlite:///harrypotter.db\n",
      "Done.\n"
     ]
    },
    {
     "data": {
      "text/html": [
       "<table>\n",
       "    <tr>\n",
       "        <th>PlaceID</th>\n",
       "        <th>PlaceName</th>\n",
       "        <th>PlaceCategory</th>\n",
       "    </tr>\n",
       "    <tr>\n",
       "        <td>1</td>\n",
       "        <td>Flourish &amp; Blotts</td>\n",
       "        <td>Diagon Alley</td>\n",
       "    </tr>\n",
       "    <tr>\n",
       "        <td>2</td>\n",
       "        <td>Gringotts Wizarding Bank</td>\n",
       "        <td>Diagon Alley</td>\n",
       "    </tr>\n",
       "    <tr>\n",
       "        <td>3</td>\n",
       "        <td>Knockturn Alley</td>\n",
       "        <td>Diagon Alley</td>\n",
       "    </tr>\n",
       "    <tr>\n",
       "        <td>4</td>\n",
       "        <td>Ollivanders</td>\n",
       "        <td>Diagon Alley</td>\n",
       "    </tr>\n",
       "    <tr>\n",
       "        <td>5</td>\n",
       "        <td>The Leaky Cauldron</td>\n",
       "        <td>Diagon Alley</td>\n",
       "    </tr>\n",
       "</table>"
      ],
      "text/plain": [
       "[(1, 'Flourish & Blotts', 'Diagon Alley'),\n",
       " (2, 'Gringotts Wizarding Bank', 'Diagon Alley'),\n",
       " (3, 'Knockturn Alley', 'Diagon Alley'),\n",
       " (4, 'Ollivanders', 'Diagon Alley'),\n",
       " (5, 'The Leaky Cauldron', 'Diagon Alley')]"
      ]
     },
     "execution_count": 7,
     "metadata": {},
     "output_type": "execute_result"
    }
   ],
   "source": [
    "%sql SELECT*FROM Places LIMIT 5"
   ]
  },
  {
   "cell_type": "code",
   "execution_count": 10,
   "metadata": {},
   "outputs": [
    {
     "name": "stdout",
     "output_type": "stream",
     "text": [
      " * sqlite:///harrypotter.db\n",
      "Done.\n"
     ]
    },
    {
     "data": {
      "text/html": [
       "<table>\n",
       "    <tr>\n",
       "        <th>CharacterID</th>\n",
       "        <th>CharacterName</th>\n",
       "        <th>Species</th>\n",
       "        <th>Gender</th>\n",
       "        <th>House</th>\n",
       "        <th>Patronus</th>\n",
       "        <th>Wand_Wood</th>\n",
       "        <th>Wand_Core</th>\n",
       "    </tr>\n",
       "    <tr>\n",
       "        <td>1</td>\n",
       "        <td>Harry Potter</td>\n",
       "        <td>Human</td>\n",
       "        <td>Male</td>\n",
       "        <td>Gryffindor</td>\n",
       "        <td>Stag</td>\n",
       "        <td>Holly</td>\n",
       "        <td>Phoenix Feather</td>\n",
       "    </tr>\n",
       "    <tr>\n",
       "        <td>2</td>\n",
       "        <td>Ron Weasley</td>\n",
       "        <td>Human</td>\n",
       "        <td>Male</td>\n",
       "        <td>Gryffindor</td>\n",
       "        <td>Jack Russell Terrier</td>\n",
       "        <td>None</td>\n",
       "        <td>None</td>\n",
       "    </tr>\n",
       "    <tr>\n",
       "        <td>3</td>\n",
       "        <td>Hermione Granger</td>\n",
       "        <td>Human</td>\n",
       "        <td>Female</td>\n",
       "        <td>Gryffindor</td>\n",
       "        <td>Otter</td>\n",
       "        <td>Vine</td>\n",
       "        <td>Dragon Heartstring</td>\n",
       "    </tr>\n",
       "    <tr>\n",
       "        <td>4</td>\n",
       "        <td>Albus Dumbledore</td>\n",
       "        <td>Human</td>\n",
       "        <td>Male</td>\n",
       "        <td>Gryffindor</td>\n",
       "        <td>Phoenix</td>\n",
       "        <td>Elder</td>\n",
       "        <td>Thestral Tail Hair</td>\n",
       "    </tr>\n",
       "    <tr>\n",
       "        <td>5</td>\n",
       "        <td>Rubeus Hagrid</td>\n",
       "        <td>Half-Human/Half-Giant</td>\n",
       "        <td>Male</td>\n",
       "        <td>Gryffindor</td>\n",
       "        <td>None</td>\n",
       "        <td>Oak</td>\n",
       "        <td>None</td>\n",
       "    </tr>\n",
       "</table>"
      ],
      "text/plain": [
       "[(1, 'Harry Potter', 'Human', 'Male', 'Gryffindor', 'Stag', 'Holly', 'Phoenix Feather'),\n",
       " (2, 'Ron Weasley', 'Human', 'Male', 'Gryffindor', 'Jack Russell Terrier', None, None),\n",
       " (3, 'Hermione Granger', 'Human', 'Female', 'Gryffindor', 'Otter', 'Vine', 'Dragon Heartstring'),\n",
       " (4, 'Albus Dumbledore', 'Human', 'Male', 'Gryffindor', 'Phoenix', 'Elder', 'Thestral Tail Hair'),\n",
       " (5, 'Rubeus Hagrid', 'Half-Human/Half-Giant', 'Male', 'Gryffindor', None, 'Oak', None)]"
      ]
     },
     "execution_count": 10,
     "metadata": {},
     "output_type": "execute_result"
    }
   ],
   "source": [
    "%sql SELECT*FROM Characters LIMIT 5"
   ]
  },
  {
   "cell_type": "code",
   "execution_count": 11,
   "metadata": {},
   "outputs": [
    {
     "name": "stdout",
     "output_type": "stream",
     "text": [
      " * sqlite:///harrypotter.db\n",
      "Done.\n"
     ]
    },
    {
     "data": {
      "text/html": [
       "<table>\n",
       "    <tr>\n",
       "        <th>SpellID</th>\n",
       "        <th>Incantation</th>\n",
       "        <th>SpellName</th>\n",
       "        <th>Effect</th>\n",
       "        <th>Light</th>\n",
       "    </tr>\n",
       "    <tr>\n",
       "        <td>1</td>\n",
       "        <td>Accio</td>\n",
       "        <td>Summoning Charm</td>\n",
       "        <td>Summons an object</td>\n",
       "        <td>None</td>\n",
       "    </tr>\n",
       "    <tr>\n",
       "        <td>2</td>\n",
       "        <td>Aguamenti</td>\n",
       "        <td>Water-Making Spell</td>\n",
       "        <td>Conjures water</td>\n",
       "        <td>Icy blue</td>\n",
       "    </tr>\n",
       "    <tr>\n",
       "        <td>3</td>\n",
       "        <td>Alarte Ascendare</td>\n",
       "        <td>Launch an object up into the air</td>\n",
       "        <td>Rockets target upward</td>\n",
       "        <td>Red</td>\n",
       "    </tr>\n",
       "    <tr>\n",
       "        <td>4</td>\n",
       "        <td>Alohomora</td>\n",
       "        <td>Unlocking Charm</td>\n",
       "        <td>Unlocks target</td>\n",
       "        <td>Blue</td>\n",
       "    </tr>\n",
       "    <tr>\n",
       "        <td>5</td>\n",
       "        <td>Arania Exumai</td>\n",
       "        <td>Spider repelling spell</td>\n",
       "        <td>Repels spiders</td>\n",
       "        <td>Blue</td>\n",
       "    </tr>\n",
       "</table>"
      ],
      "text/plain": [
       "[(1, 'Accio', 'Summoning Charm', 'Summons an object', None),\n",
       " (2, 'Aguamenti', 'Water-Making Spell', 'Conjures water', 'Icy blue'),\n",
       " (3, 'Alarte Ascendare', 'Launch an object up into the air', 'Rockets target upward', 'Red'),\n",
       " (4, 'Alohomora', 'Unlocking Charm', 'Unlocks target', 'Blue'),\n",
       " (5, 'Arania Exumai', 'Spider repelling spell', 'Repels spiders', 'Blue')]"
      ]
     },
     "execution_count": 11,
     "metadata": {},
     "output_type": "execute_result"
    }
   ],
   "source": [
    "%sql SELECT*FROM Spells LIMIT 5"
   ]
  },
  {
   "cell_type": "code",
   "execution_count": 12,
   "metadata": {},
   "outputs": [
    {
     "name": "stdout",
     "output_type": "stream",
     "text": [
      " * sqlite:///harrypotter.db\n",
      "Done.\n"
     ]
    },
    {
     "data": {
      "text/html": [
       "<table>\n",
       "    <tr>\n",
       "        <th>MovieID</th>\n",
       "        <th>MovieTitle</th>\n",
       "        <th>ReleaseYear</th>\n",
       "        <th>Runtime</th>\n",
       "        <th>Budget</th>\n",
       "        <th>BoxOffice</th>\n",
       "    </tr>\n",
       "    <tr>\n",
       "        <td>1</td>\n",
       "        <td>Harry Potter and the Philosopher&#x27;s Stone</td>\n",
       "        <td>2001</td>\n",
       "        <td>152</td>\n",
       "        <td>125000000</td>\n",
       "        <td>1002000000</td>\n",
       "    </tr>\n",
       "    <tr>\n",
       "        <td>2</td>\n",
       "        <td>Harry Potter and the Chamber of Secrets</td>\n",
       "        <td>2002</td>\n",
       "        <td>161</td>\n",
       "        <td>100000000</td>\n",
       "        <td>880300000</td>\n",
       "    </tr>\n",
       "    <tr>\n",
       "        <td>3</td>\n",
       "        <td>Harry Potter and the Prisoner of Azkaban</td>\n",
       "        <td>2004</td>\n",
       "        <td>142</td>\n",
       "        <td>130000000</td>\n",
       "        <td>796700000</td>\n",
       "    </tr>\n",
       "    <tr>\n",
       "        <td>4</td>\n",
       "        <td>Harry Potter and the Goblet of Fire</td>\n",
       "        <td>2005</td>\n",
       "        <td>157</td>\n",
       "        <td>150000000</td>\n",
       "        <td>896400000</td>\n",
       "    </tr>\n",
       "    <tr>\n",
       "        <td>5</td>\n",
       "        <td>Harry Potter and the Order of the Phoenix</td>\n",
       "        <td>2007</td>\n",
       "        <td>138</td>\n",
       "        <td>150000000</td>\n",
       "        <td>942000000</td>\n",
       "    </tr>\n",
       "    <tr>\n",
       "        <td>6</td>\n",
       "        <td>Harry Potter and the Half-Blood Prince</td>\n",
       "        <td>2009</td>\n",
       "        <td>153</td>\n",
       "        <td>250000000</td>\n",
       "        <td>943200000</td>\n",
       "    </tr>\n",
       "    <tr>\n",
       "        <td>7</td>\n",
       "        <td>Harry Potter and the Deathly Hallows Part 1</td>\n",
       "        <td>2010</td>\n",
       "        <td>146</td>\n",
       "        <td>200000000</td>\n",
       "        <td>976900000</td>\n",
       "    </tr>\n",
       "    <tr>\n",
       "        <td>8</td>\n",
       "        <td>Harry Potter and the Deathly Hallows Part 2</td>\n",
       "        <td>2011</td>\n",
       "        <td>130</td>\n",
       "        <td>250000000</td>\n",
       "        <td>1342000000</td>\n",
       "    </tr>\n",
       "</table>"
      ],
      "text/plain": [
       "[(1, \"Harry Potter and the Philosopher's Stone\", 2001, 152, 125000000, 1002000000),\n",
       " (2, 'Harry Potter and the Chamber of Secrets', 2002, 161, 100000000, 880300000),\n",
       " (3, 'Harry Potter and the Prisoner of Azkaban', 2004, 142, 130000000, 796700000),\n",
       " (4, 'Harry Potter and the Goblet of Fire', 2005, 157, 150000000, 896400000),\n",
       " (5, 'Harry Potter and the Order of the Phoenix', 2007, 138, 150000000, 942000000),\n",
       " (6, 'Harry Potter and the Half-Blood Prince', 2009, 153, 250000000, 943200000),\n",
       " (7, 'Harry Potter and the Deathly Hallows Part 1', 2010, 146, 200000000, 976900000),\n",
       " (8, 'Harry Potter and the Deathly Hallows Part 2', 2011, 130, 250000000, 1342000000)]"
      ]
     },
     "execution_count": 12,
     "metadata": {},
     "output_type": "execute_result"
    }
   ],
   "source": [
    "%sql SELECT*FROM Movies "
   ]
  },
  {
   "cell_type": "markdown",
   "metadata": {},
   "source": [
    "### Exploring data"
   ]
  },
  {
   "cell_type": "markdown",
   "metadata": {},
   "source": [
    "Characters's count broken into gender and Hogwarts house:"
   ]
  },
  {
   "cell_type": "code",
   "execution_count": 13,
   "metadata": {},
   "outputs": [
    {
     "name": "stdout",
     "output_type": "stream",
     "text": [
      " * sqlite:///harrypotter.db\n",
      "Done.\n"
     ]
    },
    {
     "data": {
      "text/html": [
       "<table>\n",
       "    <tr>\n",
       "        <th>House</th>\n",
       "        <th>Total</th>\n",
       "        <th>Male</th>\n",
       "        <th>Female</th>\n",
       "        <th>Other</th>\n",
       "    </tr>\n",
       "    <tr>\n",
       "        <td>Gryffindor</td>\n",
       "        <td>62</td>\n",
       "        <td>42</td>\n",
       "        <td>18</td>\n",
       "        <td>2</td>\n",
       "    </tr>\n",
       "    <tr>\n",
       "        <td>Slytherin</td>\n",
       "        <td>40</td>\n",
       "        <td>28</td>\n",
       "        <td>12</td>\n",
       "        <td>0</td>\n",
       "    </tr>\n",
       "    <tr>\n",
       "        <td>Ravenclaw</td>\n",
       "        <td>24</td>\n",
       "        <td>12</td>\n",
       "        <td>12</td>\n",
       "        <td>0</td>\n",
       "    </tr>\n",
       "    <tr>\n",
       "        <td>Hufflepuff</td>\n",
       "        <td>16</td>\n",
       "        <td>8</td>\n",
       "        <td>8</td>\n",
       "        <td>0</td>\n",
       "    </tr>\n",
       "    <tr>\n",
       "        <td>Durmstrang Institute</td>\n",
       "        <td>4</td>\n",
       "        <td>4</td>\n",
       "        <td>0</td>\n",
       "        <td>0</td>\n",
       "    </tr>\n",
       "    <tr>\n",
       "        <td>Beauxbatons Academy of Magic</td>\n",
       "        <td>4</td>\n",
       "        <td>0</td>\n",
       "        <td>4</td>\n",
       "        <td>0</td>\n",
       "    </tr>\n",
       "</table>"
      ],
      "text/plain": [
       "[('Gryffindor', 62, 42, 18, 2),\n",
       " ('Slytherin', 40, 28, 12, 0),\n",
       " ('Ravenclaw', 24, 12, 12, 0),\n",
       " ('Hufflepuff', 16, 8, 8, 0),\n",
       " ('Durmstrang Institute', 4, 4, 0, 0),\n",
       " ('Beauxbatons Academy of Magic', 4, 0, 4, 0)]"
      ]
     },
     "execution_count": 13,
     "metadata": {},
     "output_type": "execute_result"
    }
   ],
   "source": [
    "%%sql \n",
    "SELECT  DISTINCT(House), \n",
    "        COUNT (CharacterID) Total,\n",
    "        COUNT ( CASE \n",
    "                WHEN Gender='Male'\n",
    "                THEN CharacterID END) Male,\n",
    "        COUNT ( CASE \n",
    "                WHEN Gender='Female'\n",
    "                THEN CharacterID END) Female,\n",
    "        COUNT ( CASE \n",
    "                WHEN Gender NOT IN ('Female','Male')\n",
    "                THEN CharacterID END) Other\n",
    "FROM    Characters \n",
    "WHERE   House IS NOT NULL\n",
    "GROUP BY 1\n",
    "ORDER BY 2 DESC"
   ]
  },
  {
   "cell_type": "markdown",
   "metadata": {},
   "source": [
    "Calculate the profit of each movie"
   ]
  },
  {
   "cell_type": "code",
   "execution_count": 14,
   "metadata": {},
   "outputs": [
    {
     "name": "stdout",
     "output_type": "stream",
     "text": [
      " * sqlite:///harrypotter.db\n",
      "Done.\n"
     ]
    },
    {
     "data": {
      "text/html": [
       "<table>\n",
       "    <tr>\n",
       "        <th>MovieID</th>\n",
       "        <th>MovieTitle</th>\n",
       "        <th>ReleaseYear</th>\n",
       "        <th>Runtime</th>\n",
       "        <th>Budget</th>\n",
       "        <th>BoxOffice</th>\n",
       "        <th>Profit</th>\n",
       "    </tr>\n",
       "    <tr>\n",
       "        <td>1</td>\n",
       "        <td>Harry Potter and the Philosopher&#x27;s Stone</td>\n",
       "        <td>2001</td>\n",
       "        <td>152</td>\n",
       "        <td>125000000</td>\n",
       "        <td>1002000000</td>\n",
       "        <td>877000000</td>\n",
       "    </tr>\n",
       "    <tr>\n",
       "        <td>2</td>\n",
       "        <td>Harry Potter and the Chamber of Secrets</td>\n",
       "        <td>2002</td>\n",
       "        <td>161</td>\n",
       "        <td>100000000</td>\n",
       "        <td>880300000</td>\n",
       "        <td>780300000</td>\n",
       "    </tr>\n",
       "    <tr>\n",
       "        <td>3</td>\n",
       "        <td>Harry Potter and the Prisoner of Azkaban</td>\n",
       "        <td>2004</td>\n",
       "        <td>142</td>\n",
       "        <td>130000000</td>\n",
       "        <td>796700000</td>\n",
       "        <td>666700000</td>\n",
       "    </tr>\n",
       "    <tr>\n",
       "        <td>4</td>\n",
       "        <td>Harry Potter and the Goblet of Fire</td>\n",
       "        <td>2005</td>\n",
       "        <td>157</td>\n",
       "        <td>150000000</td>\n",
       "        <td>896400000</td>\n",
       "        <td>746400000</td>\n",
       "    </tr>\n",
       "    <tr>\n",
       "        <td>5</td>\n",
       "        <td>Harry Potter and the Order of the Phoenix</td>\n",
       "        <td>2007</td>\n",
       "        <td>138</td>\n",
       "        <td>150000000</td>\n",
       "        <td>942000000</td>\n",
       "        <td>792000000</td>\n",
       "    </tr>\n",
       "    <tr>\n",
       "        <td>6</td>\n",
       "        <td>Harry Potter and the Half-Blood Prince</td>\n",
       "        <td>2009</td>\n",
       "        <td>153</td>\n",
       "        <td>250000000</td>\n",
       "        <td>943200000</td>\n",
       "        <td>693200000</td>\n",
       "    </tr>\n",
       "    <tr>\n",
       "        <td>7</td>\n",
       "        <td>Harry Potter and the Deathly Hallows Part 1</td>\n",
       "        <td>2010</td>\n",
       "        <td>146</td>\n",
       "        <td>200000000</td>\n",
       "        <td>976900000</td>\n",
       "        <td>776900000</td>\n",
       "    </tr>\n",
       "    <tr>\n",
       "        <td>8</td>\n",
       "        <td>Harry Potter and the Deathly Hallows Part 2</td>\n",
       "        <td>2011</td>\n",
       "        <td>130</td>\n",
       "        <td>250000000</td>\n",
       "        <td>1342000000</td>\n",
       "        <td>1092000000</td>\n",
       "    </tr>\n",
       "</table>"
      ],
      "text/plain": [
       "[(1, \"Harry Potter and the Philosopher's Stone\", 2001, 152, 125000000, 1002000000, 877000000),\n",
       " (2, 'Harry Potter and the Chamber of Secrets', 2002, 161, 100000000, 880300000, 780300000),\n",
       " (3, 'Harry Potter and the Prisoner of Azkaban', 2004, 142, 130000000, 796700000, 666700000),\n",
       " (4, 'Harry Potter and the Goblet of Fire', 2005, 157, 150000000, 896400000, 746400000),\n",
       " (5, 'Harry Potter and the Order of the Phoenix', 2007, 138, 150000000, 942000000, 792000000),\n",
       " (6, 'Harry Potter and the Half-Blood Prince', 2009, 153, 250000000, 943200000, 693200000),\n",
       " (7, 'Harry Potter and the Deathly Hallows Part 1', 2010, 146, 200000000, 976900000, 776900000),\n",
       " (8, 'Harry Potter and the Deathly Hallows Part 2', 2011, 130, 250000000, 1342000000, 1092000000)]"
      ]
     },
     "execution_count": 14,
     "metadata": {},
     "output_type": "execute_result"
    }
   ],
   "source": [
    "%%sql\n",
    "SELECT  *,\n",
    "        (BoxOffice-Budget) AS Profit\n",
    "FROM    Movies"
   ]
  },
  {
   "cell_type": "markdown",
   "metadata": {},
   "source": [
    "Add more descriptions in Dialogue table by joining the information from multiple tables:"
   ]
  },
  {
   "cell_type": "code",
   "execution_count": 16,
   "metadata": {},
   "outputs": [
    {
     "name": "stdout",
     "output_type": "stream",
     "text": [
      " * sqlite:///harrypotter.db\n",
      "Done.\n"
     ]
    },
    {
     "data": {
      "text/html": [
       "<table>\n",
       "    <tr>\n",
       "        <th>DialogueID</th>\n",
       "        <th>MovieTitle</th>\n",
       "        <th>PlaceName</th>\n",
       "        <th>PlaceCategory</th>\n",
       "        <th>CharacterName</th>\n",
       "        <th>House</th>\n",
       "        <th>Dialogue</th>\n",
       "    </tr>\n",
       "    <tr>\n",
       "        <td>1</td>\n",
       "        <td>Harry Potter and the Philosopher&#x27;s Stone</td>\n",
       "        <td>4 Privet Drive</td>\n",
       "        <td>Dwellings</td>\n",
       "        <td>Albus Dumbledore</td>\n",
       "        <td>Gryffindor</td>\n",
       "        <td>I should have known that you would be here...Professor McGonagall.</td>\n",
       "    </tr>\n",
       "    <tr>\n",
       "        <td>2</td>\n",
       "        <td>Harry Potter and the Philosopher&#x27;s Stone</td>\n",
       "        <td>4 Privet Drive</td>\n",
       "        <td>Dwellings</td>\n",
       "        <td>Minerva McGonagall</td>\n",
       "        <td>Gryffindor</td>\n",
       "        <td>Good evening, Professor Dumbledore. Are the rumours true, Albus?</td>\n",
       "    </tr>\n",
       "    <tr>\n",
       "        <td>3</td>\n",
       "        <td>Harry Potter and the Philosopher&#x27;s Stone</td>\n",
       "        <td>4 Privet Drive</td>\n",
       "        <td>Dwellings</td>\n",
       "        <td>Albus Dumbledore</td>\n",
       "        <td>Gryffindor</td>\n",
       "        <td>I&#x27;m afraid so, Professor. The good, and the bad.</td>\n",
       "    </tr>\n",
       "    <tr>\n",
       "        <td>4</td>\n",
       "        <td>Harry Potter and the Philosopher&#x27;s Stone</td>\n",
       "        <td>4 Privet Drive</td>\n",
       "        <td>Dwellings</td>\n",
       "        <td>Minerva McGonagall</td>\n",
       "        <td>Gryffindor</td>\n",
       "        <td>And the boy?</td>\n",
       "    </tr>\n",
       "    <tr>\n",
       "        <td>5</td>\n",
       "        <td>Harry Potter and the Philosopher&#x27;s Stone</td>\n",
       "        <td>4 Privet Drive</td>\n",
       "        <td>Dwellings</td>\n",
       "        <td>Albus Dumbledore</td>\n",
       "        <td>Gryffindor</td>\n",
       "        <td>Hagrid is bringing him.</td>\n",
       "    </tr>\n",
       "    <tr>\n",
       "        <td>6</td>\n",
       "        <td>Harry Potter and the Philosopher&#x27;s Stone</td>\n",
       "        <td>4 Privet Drive</td>\n",
       "        <td>Dwellings</td>\n",
       "        <td>Minerva McGonagall</td>\n",
       "        <td>Gryffindor</td>\n",
       "        <td>Do you think it wise to trust Hagrid with something as important as this?</td>\n",
       "    </tr>\n",
       "    <tr>\n",
       "        <td>7</td>\n",
       "        <td>Harry Potter and the Philosopher&#x27;s Stone</td>\n",
       "        <td>4 Privet Drive</td>\n",
       "        <td>Dwellings</td>\n",
       "        <td>Albus Dumbledore</td>\n",
       "        <td>Gryffindor</td>\n",
       "        <td>Ah, Professor, I would trust Hagrid with my life.</td>\n",
       "    </tr>\n",
       "    <tr>\n",
       "        <td>8</td>\n",
       "        <td>Harry Potter and the Philosopher&#x27;s Stone</td>\n",
       "        <td>4 Privet Drive</td>\n",
       "        <td>Dwellings</td>\n",
       "        <td>Rubeus Hagrid</td>\n",
       "        <td>Gryffindor</td>\n",
       "        <td>Professor Dumbledore, Sir. Professor McGonagall.</td>\n",
       "    </tr>\n",
       "    <tr>\n",
       "        <td>9</td>\n",
       "        <td>Harry Potter and the Philosopher&#x27;s Stone</td>\n",
       "        <td>4 Privet Drive</td>\n",
       "        <td>Dwellings</td>\n",
       "        <td>Albus Dumbledore</td>\n",
       "        <td>Gryffindor</td>\n",
       "        <td>No problems, I trust, Hagrid?</td>\n",
       "    </tr>\n",
       "    <tr>\n",
       "        <td>10</td>\n",
       "        <td>Harry Potter and the Philosopher&#x27;s Stone</td>\n",
       "        <td>4 Privet Drive</td>\n",
       "        <td>Dwellings</td>\n",
       "        <td>Rubeus Hagrid</td>\n",
       "        <td>Gryffindor</td>\n",
       "        <td>No, sir. Little tyke fell asleep just as we were flying over Bristol. Heh. Try not to wake him. There you go.</td>\n",
       "    </tr>\n",
       "</table>"
      ],
      "text/plain": [
       "[(1, \"Harry Potter and the Philosopher's Stone\", '4 Privet Drive', 'Dwellings', 'Albus Dumbledore', 'Gryffindor', 'I should have known that you would be here...Professor McGonagall.'),\n",
       " (2, \"Harry Potter and the Philosopher's Stone\", '4 Privet Drive', 'Dwellings', 'Minerva McGonagall', 'Gryffindor', 'Good evening, Professor Dumbledore. Are the rumours true, Albus?'),\n",
       " (3, \"Harry Potter and the Philosopher's Stone\", '4 Privet Drive', 'Dwellings', 'Albus Dumbledore', 'Gryffindor', \"I'm afraid so, Professor. The good, and the bad.\"),\n",
       " (4, \"Harry Potter and the Philosopher's Stone\", '4 Privet Drive', 'Dwellings', 'Minerva McGonagall', 'Gryffindor', 'And the boy?'),\n",
       " (5, \"Harry Potter and the Philosopher's Stone\", '4 Privet Drive', 'Dwellings', 'Albus Dumbledore', 'Gryffindor', 'Hagrid is bringing him.'),\n",
       " (6, \"Harry Potter and the Philosopher's Stone\", '4 Privet Drive', 'Dwellings', 'Minerva McGonagall', 'Gryffindor', 'Do you think it wise to trust Hagrid with something as important as this?'),\n",
       " (7, \"Harry Potter and the Philosopher's Stone\", '4 Privet Drive', 'Dwellings', 'Albus Dumbledore', 'Gryffindor', 'Ah, Professor, I would trust Hagrid with my life.'),\n",
       " (8, \"Harry Potter and the Philosopher's Stone\", '4 Privet Drive', 'Dwellings', 'Rubeus Hagrid', 'Gryffindor', 'Professor Dumbledore, Sir. Professor McGonagall.'),\n",
       " (9, \"Harry Potter and the Philosopher's Stone\", '4 Privet Drive', 'Dwellings', 'Albus Dumbledore', 'Gryffindor', 'No problems, I trust, Hagrid?'),\n",
       " (10, \"Harry Potter and the Philosopher's Stone\", '4 Privet Drive', 'Dwellings', 'Rubeus Hagrid', 'Gryffindor', 'No, sir. Little tyke fell asleep just as we were flying over Bristol. Heh. Try not to wake him. There you go.')]"
      ]
     },
     "execution_count": 16,
     "metadata": {},
     "output_type": "execute_result"
    }
   ],
   "source": [
    "%%sql\n",
    "SELECT  DISTINCT(T1.DialogueID), \n",
    "        T5.MovieTitle,\n",
    "        T3.PlaceName,\n",
    "        T3.PlaceCategory,\n",
    "        T2.CharacterName,\n",
    "        T2.House,\n",
    "        T1.Dialogue\n",
    "FROM        Dialogue    T1\n",
    "LEFT JOIN   Characters  T2\n",
    "ON          T1.CharacterID = T2.CharacterID\n",
    "LEFT JOIN   Places      T3\n",
    "ON          T1.PlaceID = T3.PlaceID\n",
    "LEFT JOIN   Chapters    T4\n",
    "ON          T1.ChapterID = T4.ChapterID\n",
    "LEFT JOIN   Movies      T5\n",
    "ON          T4.MovieID = T5.MovieID\n",
    "LIMIT 10"
   ]
  },
  {
   "cell_type": "code",
   "execution_count": 21,
   "metadata": {},
   "outputs": [
    {
     "name": "stdout",
     "output_type": "stream",
     "text": [
      " * sqlite:///harrypotter.db\n",
      "(sqlite3.OperationalError) no such column: T2.DialgueID\n",
      "[SQL: SELECT DISTINCT (T1.Incantation), COUNT(  CASE\n",
      "                WHEN T2.Dialogue LIKE '%accio%'\n",
      "                THEN T2.DialgueID END)\n",
      "\n",
      "FROM        Spells T1\n",
      "LEFT JOIN   Dialogue T2\n",
      "WHERE       T1.Incantation = 'Accio'\n",
      "GROUP BY    1]\n",
      "(Background on this error at: http://sqlalche.me/e/14/e3q8)\n"
     ]
    }
   ],
   "source": [
    "%%sql\n",
    "SELECT  DISTINCT (T1.Incantation),\n",
    "        COUNT(  CASE\n",
    "                WHEN T2.Dialogue LIKE '%accio%'\n",
    "                THEN T2.DialgueID END)\n",
    "\n",
    "FROM        Spells T1\n",
    "LEFT JOIN   Dialogue T2\n",
    "WHERE       T1.Incantation = 'Accio'\n",
    "GROUP BY    1"
   ]
  },
  {
   "cell_type": "code",
   "execution_count": null,
   "metadata": {},
   "outputs": [],
   "source": []
  }
 ],
 "metadata": {
  "interpreter": {
   "hash": "42588fd11209419b7c81abe23e31a1d2101f60811b02170c268e57ebb57d5d9a"
  },
  "kernelspec": {
   "display_name": "Python 3.8.8 64-bit ('base': conda)",
   "language": "python",
   "name": "python3"
  },
  "language_info": {
   "codemirror_mode": {
    "name": "ipython",
    "version": 3
   },
   "file_extension": ".py",
   "mimetype": "text/x-python",
   "name": "python",
   "nbconvert_exporter": "python",
   "pygments_lexer": "ipython3",
   "version": "3.8.8"
  },
  "orig_nbformat": 4
 },
 "nbformat": 4,
 "nbformat_minor": 2
}
